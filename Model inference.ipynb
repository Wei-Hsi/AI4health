{
 "cells": [
  {
   "cell_type": "code",
   "execution_count": null,
   "metadata": {},
   "outputs": [],
   "source": [
    "import pandas as pd\n",
    "import matplotlib.pyplot as plt\n",
    "import seaborn as sns\n",
    "import joblib"
   ]
  },
  {
   "cell_type": "markdown",
   "metadata": {},
   "source": [
    "### Import the testing dataset"
   ]
  },
  {
   "cell_type": "code",
   "execution_count": null,
   "metadata": {},
   "outputs": [],
   "source": [
    "# Load your dataset with columns 'tweet' and 'categories'\n",
    "df = pd.read_csv(\"/Users/Hsuweic/Desktop/AI4health/dataset/testing dataset.csv\")"
   ]
  },
  {
   "cell_type": "markdown",
   "metadata": {},
   "source": [
    "### Load the Detection model"
   ]
  },
  {
   "cell_type": "code",
   "execution_count": null,
   "metadata": {},
   "outputs": [],
   "source": [
    "detection_model = joblib.load('/Users/Hsuweic/Desktop/AI4health/model/detection model.joblib')\n"
   ]
  },
  {
   "cell_type": "markdown",
   "metadata": {},
   "source": [
    "### Load the Classification model\n",
    "Label Dictionary:\n",
    "{'Race': 0, 'Sexual Orientation': 1, 'Gender': 2, 'Disability': 3, 'Class': 4, 'Ethnicity': 5, 'Physical Appearance': 6, 'Religion': 7, 'Behavior': 8}"
   ]
  },
  {
   "cell_type": "code",
   "execution_count": null,
   "metadata": {},
   "outputs": [],
   "source": [
    "from transformers import AutoModelForSequenceClassification, AutoTokenizer\n",
    "import torch\n",
    "\n",
    "# Example input tweet\n",
    "input_tweet = \"you are a nasty bitch and I hate you\"\n",
    "\n",
    "# Load the BERTweet tokenizer and model for sequence classification\n",
    "model_path = \"/Users/Hsuweic/Desktop/AI4health/model/classification model_4\"\n",
    "tokenizer = AutoTokenizer.from_pretrained(model_path)\n",
    "classification_model = AutoModelForSequenceClassification.from_pretrained(model_path, num_labels=9)  # hate_categories = 9\n",
    "\n",
    "# Tokenize the input tweet\n",
    "inputs = tokenizer(input_tweet, return_tensors=\"pt\")\n",
    "\n",
    "# Forward pass through the model to obtain logits\n",
    "with torch.no_grad():\n",
    "    outputs = classification_model(**inputs)\n",
    "\n",
    "# Get logits from the output\n",
    "logits = outputs.logits\n",
    "\n",
    "# Apply softmax to get probabilities\n",
    "probabilities = torch.nn.functional.softmax(logits, dim=1)\n",
    "\n",
    "# Choose the predicted class\n",
    "predicted_class = torch.argmax(probabilities, dim=1).item()\n",
    "\n",
    "print(\"Predicted class:\", predicted_class)"
   ]
  }
 ],
 "metadata": {
  "language_info": {
   "name": "python"
  },
  "orig_nbformat": 4
 },
 "nbformat": 4,
 "nbformat_minor": 2
}
