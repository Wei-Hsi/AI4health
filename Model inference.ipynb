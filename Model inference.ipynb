{
 "cells": [
  {
   "cell_type": "code",
   "execution_count": 7,
   "metadata": {},
   "outputs": [],
   "source": [
    "import pandas as pd\n",
    "import numpy as np\n",
    "import matplotlib.pyplot as plt\n",
    "import seaborn as sns\n",
    "import joblib\n",
    "from sklearn.metrics import confusion_matrix, accuracy_score, classification_report"
   ]
  },
  {
   "cell_type": "markdown",
   "metadata": {},
   "source": [
    "### Import the testing dataset"
   ]
  },
  {
   "cell_type": "code",
   "execution_count": 11,
   "metadata": {},
   "outputs": [
    {
     "name": "stdout",
     "output_type": "stream",
     "text": [
      "Testing Set: (1000, 3) 1000\n",
      "Index(['tweet', 'label', 'categories'], dtype='object')\n",
      "Hate speech:  500\n",
      "Non hate speech:  500\n"
     ]
    }
   ],
   "source": [
    "# Load your dataset with columns 'tweet' and 'categories'\n",
    "dataset = pd.read_csv(\"/Users/Hsuweic/Desktop/AI4health/dataset/testing dataset.csv\")\n",
    "\n",
    "print(\"Testing Set:\"% dataset.columns, dataset.shape, len(dataset))\n",
    "print(dataset.columns)\n",
    "\n",
    "hate_speech = dataset['label'].sum()\n",
    "print(\"Hate speech: \", hate_speech)\n",
    "print(\"Non hate speech: \", len(dataset)-hate_speech)"
   ]
  },
  {
   "cell_type": "code",
   "execution_count": 12,
   "metadata": {},
   "outputs": [],
   "source": [
    "import re\n",
    "\n",
    "def  clean_text(df, text_field):\n",
    "    df[text_field] = df[text_field].str.lower()\n",
    "    df[text_field] = df[text_field].apply(lambda elem: re.sub(r\"(@[A-Za-z0-9]+)|([^0-9A-Za-z \\t])|(\\w+:\\/\\/\\S+)|^rt|http.+?\", \"\", str(elem)))  \n",
    "    return df\n",
    "\n",
    "data_clean = clean_text(dataset, 'tweet')"
   ]
  },
  {
   "cell_type": "code",
   "execution_count": 19,
   "metadata": {},
   "outputs": [],
   "source": [
    "# Split the data into X_test and y_test with the feature column 'tweet' and the target column 'label'\n",
    "X_test = data_clean['tweet']\n",
    "y_test = data_clean['label']"
   ]
  },
  {
   "cell_type": "markdown",
   "metadata": {},
   "source": [
    "### Load the Detection model"
   ]
  },
  {
   "cell_type": "code",
   "execution_count": 23,
   "metadata": {},
   "outputs": [
    {
     "name": "stdout",
     "output_type": "stream",
     "text": [
      "                 precision    recall  f1-score   support\n",
      "\n",
      "Non Hate Speech       0.57      0.95      0.72       500\n",
      "    Hate Speech       0.86      0.29      0.44       500\n",
      "\n",
      "       accuracy                           0.62      1000\n",
      "      macro avg       0.72      0.62      0.58      1000\n",
      "   weighted avg       0.72      0.62      0.58      1000\n",
      "\n"
     ]
    },
    {
     "data": {
      "image/png": "[encoded data removed]",
      "text/plain": [
       "<Figure size 640x480 with 1 Axes>"
      ]
     },
     "metadata": {},
     "output_type": "display_data"
    }
   ],
   "source": [
    "# Load the detection model\n",
    "detection_model = joblib.load('/Users/Hsuweic/Desktop/AI4health/model/detection model.joblib')\n",
    "\n",
    "class_labels = {0: 'Non Hate Speech', 1: 'Hate Speech'}\n",
    "\n",
    "# Make predictions\n",
    "y_predict = detection_model.predict(X_test)\n",
    "\n",
    "# Generate confusion matrix\n",
    "cm = confusion_matrix(y_test, y_predict)\n",
    "accuracy = accuracy_score(y_test, y_predict)\n",
    "\n",
    "# Create a confusion matrix plot\n",
    "fig, ax = plt.subplots()\n",
    "\n",
    "# Plot the confusion matrix\n",
    "for (j, i), label in np.ndenumerate(cm):\n",
    "    ax.text(i, j, label, ha='center', va='center')\n",
    "\n",
    "# Display the accuracy in the title\n",
    "ax.set_title(f'Confusion Matrix\\n\\nAccuracy: {accuracy:.2f}')\n",
    "\n",
    "# Customize the plot\n",
    "ax.imshow(cm, cmap='Blues')\n",
    "ax.set_xticks([1, 0])\n",
    "ax.set_yticks([1, 0])\n",
    "ax.set_xlabel('Predict')\n",
    "ax.set_ylabel('True')\n",
    "\n",
    "# Print classification report\n",
    "print(classification_report(y_test, y_predict, target_names=class_labels.values()))\n"
   ]
  },
  {
   "cell_type": "markdown",
   "metadata": {},
   "source": [
    "### Load the Classification model\n",
    "Label Dictionary:\n",
    "{'Race': 0, 'Sexual Orientation': 1, 'Gender': 2, 'Disability': 3, 'Class': 4, 'Ethnicity': 5, 'Physical Appearance': 6, 'Religion': 7, 'Behavior': 8}"
   ]
  },
  {
   "cell_type": "code",
   "execution_count": null,
   "metadata": {},
   "outputs": [],
   "source": [
    "from transformers import AutoModelForSequenceClassification, AutoTokenizer\n",
    "import torch\n",
    "\n",
    "# Example input tweet\n",
    "input_tweet = \"you are a nasty bitch and I hate you\"\n",
    "\n",
    "# Load the BERTweet tokenizer and model for sequence classification\n",
    "model_path = \"/Users/Hsuweic/Desktop/AI4health/model/classification model_4\"\n",
    "tokenizer = AutoTokenizer.from_pretrained(model_path)\n",
    "classification_model = AutoModelForSequenceClassification.from_pretrained(model_path, num_labels=9)  # hate_categories = 9\n",
    "\n",
    "# Tokenize the input tweet\n",
    "inputs = tokenizer(input_tweet, return_tensors=\"pt\")\n",
    "\n",
    "# Forward pass through the model to obtain logits\n",
    "with torch.no_grad():\n",
    "    outputs = classification_model(**inputs)\n",
    "\n",
    "# Get logits from the output\n",
    "logits = outputs.logits\n",
    "\n",
    "# Apply softmax to get probabilities\n",
    "probabilities = torch.nn.functional.softmax(logits, dim=1)\n",
    "\n",
    "# Choose the predicted class\n",
    "predicted_class = torch.argmax(probabilities, dim=1).item()\n",
    "\n",
    "print(\"Predicted class:\", predicted_class)"
   ]
  }
 ],
 "metadata": {
  "kernelspec": {
   "display_name": "Python 3",
   "language": "python",
   "name": "python3"
  },
  "language_info": {
   "codemirror_mode": {
    "name": "ipython",
    "version": 3
   },
   "file_extension": ".py",
   "mimetype": "text/x-python",
   "name": "python",
   "nbconvert_exporter": "python",
   "pygments_lexer": "ipython3",
   "version": "3.8.5"
  },
  "orig_nbformat": 4
 },
 "nbformat": 4,
 "nbformat_minor": 2
}
